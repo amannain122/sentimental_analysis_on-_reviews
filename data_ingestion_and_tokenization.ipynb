{
 "cells": [
  {
   "cell_type": "markdown",
   "id": "7bb0e756-580c-4113-b84c-580dd5622b60",
   "metadata": {},
   "source": [
    "## Data Ingestion and Labelling"
   ]
  },
  {
   "cell_type": "code",
   "execution_count": 2,
   "id": "ac4d9952-8561-43aa-bea8-0f9e8aed01dc",
   "metadata": {},
   "outputs": [],
   "source": [
    "import json"
   ]
  },
  {
   "cell_type": "code",
   "execution_count": 3,
   "id": "30ccd9a9-9b33-4ef4-b90d-82871cee3f4d",
   "metadata": {},
   "outputs": [],
   "source": [
    "# File path for the review dataset\n",
    "review_path = \"yelp_academic_dataset_review.json\""
   ]
  },
  {
   "cell_type": "code",
   "execution_count": 4,
   "id": "feb9ba6e-0c12-46af-9a44-9be2e550aedf",
   "metadata": {},
   "outputs": [],
   "source": [
    "# Function to load the review dataset in chunks\n",
    "def load_review_dataset(file_path, chunk_size=10000):\n",
    "    print(f\"Loading {file_path}...\")\n",
    "    data = []\n",
    "    \n",
    "    # Read the JSON file line by line\n",
    "    with open(file_path, 'r', encoding='utf-8') as f:\n",
    "        for i, line in enumerate(f):\n",
    "            data.append(json.loads(line))  # Load each line as a dictionary\n",
    "            if (i + 1) % chunk_size == 0:  # Print progress every chunk_size lines\n",
    "                print(f\"Loaded {i + 1} lines...\")\n",
    "    \n",
    "    print(f\"Completed loading {file_path}. Total lines: {len(data)}\")\n",
    "    return data  # Return the dataset as a list of dictionaries"
   ]
  },
  {
   "cell_type": "code",
   "execution_count": 5,
   "id": "4b8a2229-f59b-47a1-a527-9d33d8513628",
   "metadata": {
    "scrolled": true
   },
   "outputs": [
    {
     "name": "stdout",
     "output_type": "stream",
     "text": [
      "Loading yelp_academic_dataset_review.json...\n",    
      "Completed loading yelp_academic_dataset_review.json. Total lines: 6990280\n",
      "First record in the review dataset:\n",
      "{'review_id': 'KU_O5udG6zpxOg-VcAEodg', 'user_id': 'mh_-eMZ6K5RLWhZyISBhwA', 'business_id': 'XQfwVwDr-v0ZS3_CbbE5Xw', 'stars': 3.0, 'useful': 0, 'funny': 0, 'cool': 0, 'text': \"If you decide to eat here, just be aware it is going to take about 2 hours from beginning to end. We have tried it multiple times, because I want to like it! I have been to it's other locations in NJ and never had a bad experience. \\n\\nThe food is good, but it takes a very long time to come out. The waitstaff is very young, but usually pleasant. We have just had too many experiences where we spent way too long waiting. We usually opt for another diner or restaurant on the weekends, in order to be done quicker.\", 'date': '2018-07-07 22:09:11'}\n"
     ]
    }
   ],
   "source": [
    "# Load the review dataset\n",
    "review_data = load_review_dataset(review_path)\n",
    "\n",
    "# Display the first record to verify\n",
    "print(\"First record in the review dataset:\")\n",
    "print(review_data[0])"
   ]
  },
  {
   "cell_type": "code",
   "execution_count": 6,
   "id": "34dcbb93-4848-4523-acdd-911b993f5a67",
   "metadata": {},
   "outputs": [
    {
     "name": "stdout",
     "output_type": "stream",
     "text": [
      "Filtered reviews: 6990280 records\n",
      "First filtered record:\n",
      "{'text': \"If you decide to eat here, just be aware it is going to take about 2 hours from beginning to end. We have tried it multiple times, because I want to like it! I have been to it's other locations in NJ and never had a bad experience. \\n\\nThe food is good, but it takes a very long time to come out. The waitstaff is very young, but usually pleasant. We have just had too many experiences where we spent way too long waiting. We usually opt for another diner or restaurant on the weekends, in order to be done quicker.\", 'stars': 3.0, 'cool': 0, 'funny': 0, 'useful': 0}\n"
     ]
    }
   ],
   "source": [
    "# Filter out relevant columns: text, stars, cool, funny, useful\n",
    "filtered_reviews = [\n",
    "    {\n",
    "        \"text\": record[\"text\"],\n",
    "        \"stars\": record[\"stars\"],\n",
    "        \"cool\": record[\"cool\"],\n",
    "        \"funny\": record[\"funny\"],\n",
    "        \"useful\": record[\"useful\"]\n",
    "    }\n",
    "    for record in review_data\n",
    "]\n",
    "\n",
    "# Display the first filtered record\n",
    "print(f\"Filtered reviews: {len(filtered_reviews)} records\")\n",
    "print(\"First filtered record:\")\n",
    "print(filtered_reviews[0])"
   ]
  },
  {
   "cell_type": "code",
   "execution_count": 7,
   "id": "d519f3d2-3d6f-42ec-b2b3-8107f71f0a56",
   "metadata": {},
   "outputs": [
    {
     "name": "stdout",
     "output_type": "stream",
     "text": [
      "First record with sentiment:\n",
      "{'text': \"If you decide to eat here, just be aware it is going to take about 2 hours from beginning to end. We have tried it multiple times, because I want to like it! I have been to it's other locations in NJ and never had a bad experience. \\n\\nThe food is good, but it takes a very long time to come out. The waitstaff is very young, but usually pleasant. We have just had too many experiences where we spent way too long waiting. We usually opt for another diner or restaurant on the weekends, in order to be done quicker.\", 'stars': 3.0, 'cool': 0, 'funny': 0, 'useful': 0, 'sentiment': 'Neutral'}\n"
     ]
    }
   ],
   "source": [
    "# Function to label sentiments\n",
    "def label_sentiment(stars):\n",
    "    if stars >= 4:\n",
    "        return \"Positive\"\n",
    "    elif stars == 3:\n",
    "        return \"Neutral\"\n",
    "    else:\n",
    "        return \"Negative\"\n",
    "\n",
    "# Add sentiment labels\n",
    "for review in filtered_reviews:\n",
    "    review[\"sentiment\"] = label_sentiment(review[\"stars\"])\n",
    "\n",
    "# Display the first record with sentiment\n",
    "print(\"First record with sentiment:\")\n",
    "print(filtered_reviews[0])"
   ]
  },
  {
   "cell_type": "markdown",
   "id": "8a0e4c47-0761-4cc6-b8c3-b87b7a7b713c",
   "metadata": {},
   "source": [
    "## Data Preprocessing"
   ]
  },
  {
   "cell_type": "code",
   "execution_count": 9,
   "id": "9cafd945-cd64-4f6e-95b7-4b35177e7afe",
   "metadata": {},
   "outputs": [
    {
     "name": "stdout",
     "output_type": "stream",
     "text": [
      "Tokenizer loaded successfully!\n"
     ]
    }
   ],
   "source": [
    "from transformers import AutoTokenizer\n",
    "\n",
    "# Load a pre-trained tokenizer (BERT tokenizer)\n",
    "tokenizer = AutoTokenizer.from_pretrained(\"bert-base-uncased\", use_fast=True)\n",
    "print(\"Tokenizer loaded successfully!\")"
   ]
  },
  {
   "cell_type": "code",
   "execution_count": 10,
   "id": "ab303dd5-4a15-406f-8233-21459cd32213",
   "metadata": {},
   "outputs": [],
   "source": [
    "def preprocess_text_with_tokenizer(batch):\n",
    "    # Tokenize the batch of text on the GPU\n",
    "    tokenized = tokenizer(\n",
    "        batch,\n",
    "        padding=True,          # Pad sentences to the same length\n",
    "        truncation=True,       # Truncate long sentences\n",
    "        max_length=128,        # Limit sequence length to 128 tokens\n",
    "        return_tensors=\"pt\"    # Return PyTorch tensors\n",
    "    ).to(\"cuda\")              # Move the result to the GPU\n",
    "    return tokenized"
   ]
  },
  {
   "cell_type": "code",
   "execution_count": 11,
   "id": "7543a959-dced-4816-b858-0f0b05f82dae",
   "metadata": {},
   "outputs": [
    {
     "name": "stdout",
     "output_type": "stream",
     "text": [
      "Subset size: 1000000 reviews\n",
      "First review in the subset:\n",
      "{'text': 'Good restaurant.  We have been there many times and the food is consistently good.  Great decor, beautiful bar.  During warmer weather. A really nice outside area right off the bar.', 'stars': 3.0, 'cool': 0, 'funny': 0, 'useful': 0, 'sentiment': 'Neutral'}\n"
     ]
    }
   ],
   "source": [
    "import random\n",
    "\n",
    "# Define subset size\n",
    "subset_size = 1000000\n",
    "\n",
    "# Randomly sample a subset of the data\n",
    "subset_reviews = random.sample(filtered_reviews, subset_size)\n",
    "\n",
    "# Display the size of the subset\n",
    "print(f\"Subset size: {len(subset_reviews)} reviews\")\n",
    "print(\"First review in the subset:\")\n",
    "print(subset_reviews[0])"
   ]
  },
  {
   "cell_type": "code",
   "execution_count": null,
   "id": "5b2da96a-a2d3-4f14-a6f4-3fcf2a540824",
   "metadata": {},
   "outputs": [],
   "source": []
  }
 ],
 "metadata": {
  "kernelspec": {
   "display_name": "Python [conda env:base] *",
   "language": "python",
   "name": "conda-base-py"
  },
  "language_info": {
   "codemirror_mode": {
    "name": "ipython",
    "version": 3
   },
   "file_extension": ".py",
   "mimetype": "text/x-python",
   "name": "python",
   "nbconvert_exporter": "python",
   "pygments_lexer": "ipython3",
   "version": "3.12.7"
  }
 },
 "nbformat": 4,
 "nbformat_minor": 5
}
